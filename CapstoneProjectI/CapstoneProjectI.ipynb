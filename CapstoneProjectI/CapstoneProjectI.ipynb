{
 "cells": [
  {
   "cell_type": "code",
   "execution_count": 1,
   "metadata": {},
   "outputs": [],
   "source": [
    "import pandas as pd\n",
    "import matplotlib.pyplot as plt\n",
    "import numpy as np\n",
    "import seaborn as sns"
   ]
  },
  {
   "cell_type": "code",
   "execution_count": 2,
   "metadata": {},
   "outputs": [],
   "source": [
    "sfr_url = 'Data/City_Zhvi_SingleFamilyResidence.csv'\n",
    "condo_url = 'Data/City_Zhvi_Condominum.csv'\n",
    "sfr = pd.read_csv(sfr_url, encoding='windows-1252')\n",
    "condo = pd.read_csv(condo_url, encoding='windows-1252')"
   ]
  },
  {
   "cell_type": "code",
   "execution_count": 3,
   "metadata": {},
   "outputs": [],
   "source": [
    "sfr = sfr.drop(['Metro', 'CountyName', 'SizeRank'], axis=1)\n",
    "condo = condo.drop(['Metro', 'CountyName', 'SizeRank'], axis=1)"
   ]
  },
  {
   "cell_type": "code",
   "execution_count": 4,
   "metadata": {},
   "outputs": [
    {
     "data": {
      "text/html": [
       "<div>\n",
       "<style scoped>\n",
       "    .dataframe tbody tr th:only-of-type {\n",
       "        vertical-align: middle;\n",
       "    }\n",
       "\n",
       "    .dataframe tbody tr th {\n",
       "        vertical-align: top;\n",
       "    }\n",
       "\n",
       "    .dataframe thead th {\n",
       "        text-align: right;\n",
       "    }\n",
       "</style>\n",
       "<table border=\"1\" class=\"dataframe\">\n",
       "  <thead>\n",
       "    <tr style=\"text-align: right;\">\n",
       "      <th></th>\n",
       "      <th>RegionID</th>\n",
       "      <th>RegionName</th>\n",
       "      <th>State</th>\n",
       "      <th>1996-04</th>\n",
       "      <th>1996-05</th>\n",
       "      <th>1996-06</th>\n",
       "      <th>1996-07</th>\n",
       "      <th>1996-08</th>\n",
       "      <th>1996-09</th>\n",
       "      <th>1996-10</th>\n",
       "      <th>...</th>\n",
       "      <th>2018-02</th>\n",
       "      <th>2018-03</th>\n",
       "      <th>2018-04</th>\n",
       "      <th>2018-05</th>\n",
       "      <th>2018-06</th>\n",
       "      <th>2018-07</th>\n",
       "      <th>2018-08</th>\n",
       "      <th>2018-09</th>\n",
       "      <th>2018-10</th>\n",
       "      <th>2018-11</th>\n",
       "    </tr>\n",
       "  </thead>\n",
       "  <tbody>\n",
       "    <tr>\n",
       "      <th>0</th>\n",
       "      <td>6181</td>\n",
       "      <td>New York</td>\n",
       "      <td>NY</td>\n",
       "      <td>171900.0</td>\n",
       "      <td>172100.0</td>\n",
       "      <td>172400.0</td>\n",
       "      <td>172500.0</td>\n",
       "      <td>172500.0</td>\n",
       "      <td>172400.0</td>\n",
       "      <td>172300.0</td>\n",
       "      <td>...</td>\n",
       "      <td>572800</td>\n",
       "      <td>579500</td>\n",
       "      <td>584900</td>\n",
       "      <td>589700</td>\n",
       "      <td>593800</td>\n",
       "      <td>597100</td>\n",
       "      <td>599200</td>\n",
       "      <td>603400</td>\n",
       "      <td>610700</td>\n",
       "      <td>616800</td>\n",
       "    </tr>\n",
       "    <tr>\n",
       "      <th>1</th>\n",
       "      <td>12447</td>\n",
       "      <td>Los Angeles</td>\n",
       "      <td>CA</td>\n",
       "      <td>166400.0</td>\n",
       "      <td>165900.0</td>\n",
       "      <td>165500.0</td>\n",
       "      <td>164900.0</td>\n",
       "      <td>164500.0</td>\n",
       "      <td>164100.0</td>\n",
       "      <td>163800.0</td>\n",
       "      <td>...</td>\n",
       "      <td>704500</td>\n",
       "      <td>709200</td>\n",
       "      <td>711100</td>\n",
       "      <td>712500</td>\n",
       "      <td>713500</td>\n",
       "      <td>714700</td>\n",
       "      <td>716500</td>\n",
       "      <td>719000</td>\n",
       "      <td>722400</td>\n",
       "      <td>726200</td>\n",
       "    </tr>\n",
       "    <tr>\n",
       "      <th>2</th>\n",
       "      <td>17426</td>\n",
       "      <td>Chicago</td>\n",
       "      <td>IL</td>\n",
       "      <td>112000.0</td>\n",
       "      <td>113100.0</td>\n",
       "      <td>113900.0</td>\n",
       "      <td>114300.0</td>\n",
       "      <td>114100.0</td>\n",
       "      <td>113600.0</td>\n",
       "      <td>112500.0</td>\n",
       "      <td>...</td>\n",
       "      <td>203400</td>\n",
       "      <td>205300</td>\n",
       "      <td>207000</td>\n",
       "      <td>208300</td>\n",
       "      <td>208600</td>\n",
       "      <td>208700</td>\n",
       "      <td>209200</td>\n",
       "      <td>210000</td>\n",
       "      <td>210700</td>\n",
       "      <td>211500</td>\n",
       "    </tr>\n",
       "    <tr>\n",
       "      <th>3</th>\n",
       "      <td>39051</td>\n",
       "      <td>Houston</td>\n",
       "      <td>TX</td>\n",
       "      <td>89100.0</td>\n",
       "      <td>89000.0</td>\n",
       "      <td>89000.0</td>\n",
       "      <td>89200.0</td>\n",
       "      <td>89500.0</td>\n",
       "      <td>89800.0</td>\n",
       "      <td>90200.0</td>\n",
       "      <td>...</td>\n",
       "      <td>182100</td>\n",
       "      <td>183600</td>\n",
       "      <td>184700</td>\n",
       "      <td>185900</td>\n",
       "      <td>186800</td>\n",
       "      <td>187800</td>\n",
       "      <td>188700</td>\n",
       "      <td>189400</td>\n",
       "      <td>190200</td>\n",
       "      <td>191000</td>\n",
       "    </tr>\n",
       "    <tr>\n",
       "      <th>4</th>\n",
       "      <td>6915</td>\n",
       "      <td>San Antonio</td>\n",
       "      <td>TX</td>\n",
       "      <td>87300.0</td>\n",
       "      <td>87100.0</td>\n",
       "      <td>87000.0</td>\n",
       "      <td>86800.0</td>\n",
       "      <td>86700.0</td>\n",
       "      <td>86600.0</td>\n",
       "      <td>86600.0</td>\n",
       "      <td>...</td>\n",
       "      <td>165000</td>\n",
       "      <td>166700</td>\n",
       "      <td>167500</td>\n",
       "      <td>168000</td>\n",
       "      <td>168900</td>\n",
       "      <td>170000</td>\n",
       "      <td>170900</td>\n",
       "      <td>172000</td>\n",
       "      <td>173200</td>\n",
       "      <td>174000</td>\n",
       "    </tr>\n",
       "  </tbody>\n",
       "</table>\n",
       "<p>5 rows × 275 columns</p>\n",
       "</div>"
      ],
      "text/plain": [
       "   RegionID   RegionName State   1996-04   1996-05   1996-06   1996-07  \\\n",
       "0      6181     New York    NY  171900.0  172100.0  172400.0  172500.0   \n",
       "1     12447  Los Angeles    CA  166400.0  165900.0  165500.0  164900.0   \n",
       "2     17426      Chicago    IL  112000.0  113100.0  113900.0  114300.0   \n",
       "3     39051      Houston    TX   89100.0   89000.0   89000.0   89200.0   \n",
       "4      6915  San Antonio    TX   87300.0   87100.0   87000.0   86800.0   \n",
       "\n",
       "    1996-08   1996-09   1996-10   ...     2018-02  2018-03  2018-04  2018-05  \\\n",
       "0  172500.0  172400.0  172300.0   ...      572800   579500   584900   589700   \n",
       "1  164500.0  164100.0  163800.0   ...      704500   709200   711100   712500   \n",
       "2  114100.0  113600.0  112500.0   ...      203400   205300   207000   208300   \n",
       "3   89500.0   89800.0   90200.0   ...      182100   183600   184700   185900   \n",
       "4   86700.0   86600.0   86600.0   ...      165000   166700   167500   168000   \n",
       "\n",
       "   2018-06  2018-07  2018-08  2018-09  2018-10  2018-11  \n",
       "0   593800   597100   599200   603400   610700   616800  \n",
       "1   713500   714700   716500   719000   722400   726200  \n",
       "2   208600   208700   209200   210000   210700   211500  \n",
       "3   186800   187800   188700   189400   190200   191000  \n",
       "4   168900   170000   170900   172000   173200   174000  \n",
       "\n",
       "[5 rows x 275 columns]"
      ]
     },
     "execution_count": 4,
     "metadata": {},
     "output_type": "execute_result"
    }
   ],
   "source": [
    "sfr.head()"
   ]
  },
  {
   "cell_type": "code",
   "execution_count": 5,
   "metadata": {},
   "outputs": [
    {
     "data": {
      "text/plain": [
       "count          12937\n",
       "unique          9059\n",
       "top       Washington\n",
       "freq              28\n",
       "Name: RegionName, dtype: object"
      ]
     },
     "execution_count": 5,
     "metadata": {},
     "output_type": "execute_result"
    }
   ],
   "source": [
    "sfr.RegionName.describe()"
   ]
  },
  {
   "cell_type": "code",
   "execution_count": 6,
   "metadata": {},
   "outputs": [
    {
     "data": {
      "text/plain": [
       "(12937, 275)"
      ]
     },
     "execution_count": 6,
     "metadata": {},
     "output_type": "execute_result"
    }
   ],
   "source": [
    "sfr.shape"
   ]
  },
  {
   "cell_type": "code",
   "execution_count": 7,
   "metadata": {},
   "outputs": [
    {
     "data": {
      "text/html": [
       "<div>\n",
       "<style scoped>\n",
       "    .dataframe tbody tr th:only-of-type {\n",
       "        vertical-align: middle;\n",
       "    }\n",
       "\n",
       "    .dataframe tbody tr th {\n",
       "        vertical-align: top;\n",
       "    }\n",
       "\n",
       "    .dataframe thead th {\n",
       "        text-align: right;\n",
       "    }\n",
       "</style>\n",
       "<table border=\"1\" class=\"dataframe\">\n",
       "  <thead>\n",
       "    <tr style=\"text-align: right;\">\n",
       "      <th></th>\n",
       "      <th>RegionID</th>\n",
       "      <th>RegionName</th>\n",
       "      <th>State</th>\n",
       "      <th>1996-04</th>\n",
       "      <th>1996-05</th>\n",
       "      <th>1996-06</th>\n",
       "      <th>1996-07</th>\n",
       "      <th>1996-08</th>\n",
       "      <th>1996-09</th>\n",
       "      <th>1996-10</th>\n",
       "      <th>...</th>\n",
       "      <th>2018-02</th>\n",
       "      <th>2018-03</th>\n",
       "      <th>2018-04</th>\n",
       "      <th>2018-05</th>\n",
       "      <th>2018-06</th>\n",
       "      <th>2018-07</th>\n",
       "      <th>2018-08</th>\n",
       "      <th>2018-09</th>\n",
       "      <th>2018-10</th>\n",
       "      <th>2018-11</th>\n",
       "    </tr>\n",
       "  </thead>\n",
       "  <tbody>\n",
       "    <tr>\n",
       "      <th>0</th>\n",
       "      <td>6181</td>\n",
       "      <td>New York</td>\n",
       "      <td>NY</td>\n",
       "      <td>160800.0</td>\n",
       "      <td>161400.0</td>\n",
       "      <td>162000.0</td>\n",
       "      <td>162600.0</td>\n",
       "      <td>163100.0</td>\n",
       "      <td>163500.0</td>\n",
       "      <td>163700.0</td>\n",
       "      <td>...</td>\n",
       "      <td>834000</td>\n",
       "      <td>836700</td>\n",
       "      <td>839400</td>\n",
       "      <td>841200</td>\n",
       "      <td>840400</td>\n",
       "      <td>837400</td>\n",
       "      <td>835700</td>\n",
       "      <td>836700</td>\n",
       "      <td>836200</td>\n",
       "      <td>834500</td>\n",
       "    </tr>\n",
       "    <tr>\n",
       "      <th>1</th>\n",
       "      <td>12447</td>\n",
       "      <td>Los Angeles</td>\n",
       "      <td>CA</td>\n",
       "      <td>130800.0</td>\n",
       "      <td>130300.0</td>\n",
       "      <td>129700.0</td>\n",
       "      <td>129200.0</td>\n",
       "      <td>128700.0</td>\n",
       "      <td>128300.0</td>\n",
       "      <td>128000.0</td>\n",
       "      <td>...</td>\n",
       "      <td>539400</td>\n",
       "      <td>543600</td>\n",
       "      <td>545200</td>\n",
       "      <td>546000</td>\n",
       "      <td>545900</td>\n",
       "      <td>546000</td>\n",
       "      <td>546900</td>\n",
       "      <td>548500</td>\n",
       "      <td>550900</td>\n",
       "      <td>553600</td>\n",
       "    </tr>\n",
       "    <tr>\n",
       "      <th>2</th>\n",
       "      <td>17426</td>\n",
       "      <td>Chicago</td>\n",
       "      <td>IL</td>\n",
       "      <td>113600.0</td>\n",
       "      <td>115300.0</td>\n",
       "      <td>116900.0</td>\n",
       "      <td>118200.0</td>\n",
       "      <td>119100.0</td>\n",
       "      <td>119700.0</td>\n",
       "      <td>119700.0</td>\n",
       "      <td>...</td>\n",
       "      <td>257800</td>\n",
       "      <td>258300</td>\n",
       "      <td>257800</td>\n",
       "      <td>256800</td>\n",
       "      <td>255500</td>\n",
       "      <td>254300</td>\n",
       "      <td>253300</td>\n",
       "      <td>252000</td>\n",
       "      <td>251100</td>\n",
       "      <td>251200</td>\n",
       "    </tr>\n",
       "    <tr>\n",
       "      <th>3</th>\n",
       "      <td>39051</td>\n",
       "      <td>Houston</td>\n",
       "      <td>TX</td>\n",
       "      <td>58600.0</td>\n",
       "      <td>59000.0</td>\n",
       "      <td>59300.0</td>\n",
       "      <td>59700.0</td>\n",
       "      <td>60100.0</td>\n",
       "      <td>60400.0</td>\n",
       "      <td>60700.0</td>\n",
       "      <td>...</td>\n",
       "      <td>104700</td>\n",
       "      <td>105600</td>\n",
       "      <td>106400</td>\n",
       "      <td>106300</td>\n",
       "      <td>106200</td>\n",
       "      <td>107000</td>\n",
       "      <td>108300</td>\n",
       "      <td>109000</td>\n",
       "      <td>108900</td>\n",
       "      <td>108800</td>\n",
       "    </tr>\n",
       "    <tr>\n",
       "      <th>4</th>\n",
       "      <td>6915</td>\n",
       "      <td>San Antonio</td>\n",
       "      <td>TX</td>\n",
       "      <td>66000.0</td>\n",
       "      <td>66000.0</td>\n",
       "      <td>66000.0</td>\n",
       "      <td>66000.0</td>\n",
       "      <td>66000.0</td>\n",
       "      <td>66000.0</td>\n",
       "      <td>66100.0</td>\n",
       "      <td>...</td>\n",
       "      <td>117500</td>\n",
       "      <td>118900</td>\n",
       "      <td>119600</td>\n",
       "      <td>120200</td>\n",
       "      <td>120400</td>\n",
       "      <td>120600</td>\n",
       "      <td>121200</td>\n",
       "      <td>121900</td>\n",
       "      <td>122500</td>\n",
       "      <td>123200</td>\n",
       "    </tr>\n",
       "  </tbody>\n",
       "</table>\n",
       "<p>5 rows × 275 columns</p>\n",
       "</div>"
      ],
      "text/plain": [
       "   RegionID   RegionName State   1996-04   1996-05   1996-06   1996-07  \\\n",
       "0      6181     New York    NY  160800.0  161400.0  162000.0  162600.0   \n",
       "1     12447  Los Angeles    CA  130800.0  130300.0  129700.0  129200.0   \n",
       "2     17426      Chicago    IL  113600.0  115300.0  116900.0  118200.0   \n",
       "3     39051      Houston    TX   58600.0   59000.0   59300.0   59700.0   \n",
       "4      6915  San Antonio    TX   66000.0   66000.0   66000.0   66000.0   \n",
       "\n",
       "    1996-08   1996-09   1996-10   ...     2018-02  2018-03  2018-04  2018-05  \\\n",
       "0  163100.0  163500.0  163700.0   ...      834000   836700   839400   841200   \n",
       "1  128700.0  128300.0  128000.0   ...      539400   543600   545200   546000   \n",
       "2  119100.0  119700.0  119700.0   ...      257800   258300   257800   256800   \n",
       "3   60100.0   60400.0   60700.0   ...      104700   105600   106400   106300   \n",
       "4   66000.0   66000.0   66100.0   ...      117500   118900   119600   120200   \n",
       "\n",
       "   2018-06  2018-07  2018-08  2018-09  2018-10  2018-11  \n",
       "0   840400   837400   835700   836700   836200   834500  \n",
       "1   545900   546000   546900   548500   550900   553600  \n",
       "2   255500   254300   253300   252000   251100   251200  \n",
       "3   106200   107000   108300   109000   108900   108800  \n",
       "4   120400   120600   121200   121900   122500   123200  \n",
       "\n",
       "[5 rows x 275 columns]"
      ]
     },
     "execution_count": 7,
     "metadata": {},
     "output_type": "execute_result"
    }
   ],
   "source": [
    "condo.head()"
   ]
  },
  {
   "cell_type": "code",
   "execution_count": 8,
   "metadata": {},
   "outputs": [
    {
     "data": {
      "text/plain": [
       "(2881, 275)"
      ]
     },
     "execution_count": 8,
     "metadata": {},
     "output_type": "execute_result"
    }
   ],
   "source": [
    "condo.shape"
   ]
  },
  {
   "cell_type": "code",
   "execution_count": 9,
   "metadata": {},
   "outputs": [
    {
     "data": {
      "text/plain": [
       "count        2881\n",
       "unique       2480\n",
       "top       Jackson\n",
       "freq            7\n",
       "Name: RegionName, dtype: object"
      ]
     },
     "execution_count": 9,
     "metadata": {},
     "output_type": "execute_result"
    }
   ],
   "source": [
    "condo.RegionName.describe()"
   ]
  },
  {
   "cell_type": "code",
   "execution_count": 10,
   "metadata": {
    "scrolled": true
   },
   "outputs": [],
   "source": [
    "sfr2 = pd.melt(sfr, value_vars=sfr.iloc[:, 3:275], id_vars=['RegionID', 'RegionName', 'State'])\n"
   ]
  },
  {
   "cell_type": "code",
   "execution_count": 11,
   "metadata": {},
   "outputs": [],
   "source": [
    "sfr2.columns = ['RegionID', 'RegionName', 'State', 'Month', 'Price']"
   ]
  },
  {
   "cell_type": "code",
   "execution_count": 12,
   "metadata": {},
   "outputs": [],
   "source": [
    "sfr2 = sfr2.set_index('Month')"
   ]
  },
  {
   "cell_type": "code",
   "execution_count": 14,
   "metadata": {},
   "outputs": [],
   "source": [
    "sfr2.index = pd.DatetimeIndex(sfr2.index)"
   ]
  },
  {
   "cell_type": "code",
   "execution_count": 15,
   "metadata": {},
   "outputs": [
    {
     "data": {
      "text/html": [
       "<div>\n",
       "<style scoped>\n",
       "    .dataframe tbody tr th:only-of-type {\n",
       "        vertical-align: middle;\n",
       "    }\n",
       "\n",
       "    .dataframe tbody tr th {\n",
       "        vertical-align: top;\n",
       "    }\n",
       "\n",
       "    .dataframe thead th {\n",
       "        text-align: right;\n",
       "    }\n",
       "</style>\n",
       "<table border=\"1\" class=\"dataframe\">\n",
       "  <thead>\n",
       "    <tr style=\"text-align: right;\">\n",
       "      <th></th>\n",
       "      <th>RegionID</th>\n",
       "      <th>RegionName</th>\n",
       "      <th>State</th>\n",
       "      <th>Price</th>\n",
       "    </tr>\n",
       "    <tr>\n",
       "      <th>Month</th>\n",
       "      <th></th>\n",
       "      <th></th>\n",
       "      <th></th>\n",
       "      <th></th>\n",
       "    </tr>\n",
       "  </thead>\n",
       "  <tbody>\n",
       "    <tr>\n",
       "      <th>1996-04-01</th>\n",
       "      <td>6181</td>\n",
       "      <td>New York</td>\n",
       "      <td>NY</td>\n",
       "      <td>171900.0</td>\n",
       "    </tr>\n",
       "    <tr>\n",
       "      <th>1996-04-01</th>\n",
       "      <td>12447</td>\n",
       "      <td>Los Angeles</td>\n",
       "      <td>CA</td>\n",
       "      <td>166400.0</td>\n",
       "    </tr>\n",
       "    <tr>\n",
       "      <th>1996-04-01</th>\n",
       "      <td>17426</td>\n",
       "      <td>Chicago</td>\n",
       "      <td>IL</td>\n",
       "      <td>112000.0</td>\n",
       "    </tr>\n",
       "    <tr>\n",
       "      <th>1996-04-01</th>\n",
       "      <td>39051</td>\n",
       "      <td>Houston</td>\n",
       "      <td>TX</td>\n",
       "      <td>89100.0</td>\n",
       "    </tr>\n",
       "    <tr>\n",
       "      <th>1996-04-01</th>\n",
       "      <td>6915</td>\n",
       "      <td>San Antonio</td>\n",
       "      <td>TX</td>\n",
       "      <td>87300.0</td>\n",
       "    </tr>\n",
       "  </tbody>\n",
       "</table>\n",
       "</div>"
      ],
      "text/plain": [
       "            RegionID   RegionName State     Price\n",
       "Month                                            \n",
       "1996-04-01      6181     New York    NY  171900.0\n",
       "1996-04-01     12447  Los Angeles    CA  166400.0\n",
       "1996-04-01     17426      Chicago    IL  112000.0\n",
       "1996-04-01     39051      Houston    TX   89100.0\n",
       "1996-04-01      6915  San Antonio    TX   87300.0"
      ]
     },
     "execution_count": 15,
     "metadata": {},
     "output_type": "execute_result"
    }
   ],
   "source": [
    "sfr2.head()"
   ]
  },
  {
   "cell_type": "code",
   "execution_count": 67,
   "metadata": {},
   "outputs": [
    {
     "data": {
      "text/plain": [
       "<matplotlib.axes._subplots.AxesSubplot at 0x1a753dd668>"
      ]
     },
     "execution_count": 67,
     "metadata": {},
     "output_type": "execute_result"
    },
    {
     "data": {
      "image/png": "[encoded data removed]",
      "text/plain": [
       "<Figure size 432x288 with 1 Axes>"
      ]
     },
     "metadata": {
      "needs_background": "light"
     },
     "output_type": "display_data"
    }
   ],
   "source": [
    "sfr.iloc[13, 3:275].plot()"
   ]
  },
  {
   "cell_type": "code",
   "execution_count": null,
   "metadata": {},
   "outputs": [],
   "source": []
  }
 ],
 "metadata": {
  "kernelspec": {
   "display_name": "Python 3",
   "language": "python",
   "name": "python3"
  },
  "language_info": {
   "codemirror_mode": {
    "name": "ipython",
    "version": 3
   },
   "file_extension": ".py",
   "mimetype": "text/x-python",
   "name": "python",
   "nbconvert_exporter": "python",
   "pygments_lexer": "ipython3",
   "version": "3.6.7"
  }
 },
 "nbformat": 4,
 "nbformat_minor": 2
}
